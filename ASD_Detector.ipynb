{
  "cells": [
    {
      "cell_type": "code",
      "execution_count": null,
      "metadata": {
        "id": "haEqeDlFiDF6"
      },
      "outputs": [],
      "source": [
        "import matplotlib.pyplot as plt\n",
        "import pandas as pd\n",
        "import seaborn as sns"
      ]
    },
    {
      "cell_type": "code",
      "execution_count": null,
      "metadata": {
        "id": "A9S5oIg0y64V"
      },
      "outputs": [],
      "source": [
        "df1= pd.read_csv('/content/drive/MyDrive/csv_result-Autism-Adolescent-Data.csv')\n",
        "df2= pd.read_csv('/content/drive/MyDrive/csv_result-Autism-Adult-Data (1).csv')\n",
        "df3=pd.read_csv('/content/drive/MyDrive/csv_result-Autism-Child-Data (1).csv')"
      ]
    },
    {
      "cell_type": "code",
      "execution_count": null,
      "metadata": {
        "colab": {
          "base_uri": "https://localhost:8080/"
        },
        "id": "2cXHe2MbzxtM",
        "outputId": "fa86637f-d309-415a-9fdc-16f27c2e9ebe"
      },
      "outputs": [
        {
          "name": "stdout",
          "output_type": "stream",
          "text": [
            "(104, 22)\n",
            "(704, 22)\n",
            "(292, 22)\n"
          ]
        }
      ],
      "source": [
        "print(df1.shape)\n",
        "print(df2.shape)\n",
        "print(df3.shape)"
      ]
    },
    {
      "cell_type": "code",
      "execution_count": null,
      "metadata": {
        "id": "ZklSZZ3N4EAW"
      },
      "outputs": [],
      "source": [
        "df=pd.concat([df1,df2,df3])"
      ]
    },
    {
      "cell_type": "markdown",
      "metadata": {
        "id": "tVbbyFKB4ZHW"
      },
      "source": [
        "## **Exploratory Data Analysis of the Dataset**"
      ]
    },
    {
      "cell_type": "code",
      "execution_count": null,
      "metadata": {
        "colab": {
          "base_uri": "https://localhost:8080/",
          "height": 386
        },
        "id": "vWXEAvWs4YgJ",
        "outputId": "5d007c06-2591-41c7-a253-eaaf2b4bde91"
      },
      "outputs": [
        {
          "data": {
            "text/html": [
              "\n",
              "  <div id=\"df-12ba508c-b1ea-44b4-b542-15b4b20ad8d4\">\n",
              "    <div class=\"colab-df-container\">\n",
              "      <div>\n",
              "<style scoped>\n",
              "    .dataframe tbody tr th:only-of-type {\n",
              "        vertical-align: middle;\n",
              "    }\n",
              "\n",
              "    .dataframe tbody tr th {\n",
              "        vertical-align: top;\n",
              "    }\n",
              "\n",
              "    .dataframe thead th {\n",
              "        text-align: right;\n",
              "    }\n",
              "</style>\n",
              "<table border=\"1\" class=\"dataframe\">\n",
              "  <thead>\n",
              "    <tr style=\"text-align: right;\">\n",
              "      <th></th>\n",
              "      <th>id</th>\n",
              "      <th>A1_Score</th>\n",
              "      <th>A2_Score</th>\n",
              "      <th>A3_Score</th>\n",
              "      <th>A4_Score</th>\n",
              "      <th>A5_Score</th>\n",
              "      <th>A6_Score</th>\n",
              "      <th>A7_Score</th>\n",
              "      <th>A8_Score</th>\n",
              "      <th>A9_Score</th>\n",
              "      <th>...</th>\n",
              "      <th>gender</th>\n",
              "      <th>ethnicity</th>\n",
              "      <th>jundice</th>\n",
              "      <th>austim</th>\n",
              "      <th>contry_of_res</th>\n",
              "      <th>used_app_before</th>\n",
              "      <th>result</th>\n",
              "      <th>age_desc</th>\n",
              "      <th>relation</th>\n",
              "      <th>Class/ASD</th>\n",
              "    </tr>\n",
              "  </thead>\n",
              "  <tbody>\n",
              "    <tr>\n",
              "      <th>0</th>\n",
              "      <td>1</td>\n",
              "      <td>0</td>\n",
              "      <td>0</td>\n",
              "      <td>0</td>\n",
              "      <td>1</td>\n",
              "      <td>1</td>\n",
              "      <td>1</td>\n",
              "      <td>1</td>\n",
              "      <td>1</td>\n",
              "      <td>1</td>\n",
              "      <td>...</td>\n",
              "      <td>m</td>\n",
              "      <td>Hispanic</td>\n",
              "      <td>yes</td>\n",
              "      <td>yes</td>\n",
              "      <td>Austria</td>\n",
              "      <td>no</td>\n",
              "      <td>6</td>\n",
              "      <td>12-16 years</td>\n",
              "      <td>Parent</td>\n",
              "      <td>NO</td>\n",
              "    </tr>\n",
              "    <tr>\n",
              "      <th>1</th>\n",
              "      <td>2</td>\n",
              "      <td>0</td>\n",
              "      <td>0</td>\n",
              "      <td>0</td>\n",
              "      <td>0</td>\n",
              "      <td>0</td>\n",
              "      <td>0</td>\n",
              "      <td>0</td>\n",
              "      <td>0</td>\n",
              "      <td>1</td>\n",
              "      <td>...</td>\n",
              "      <td>m</td>\n",
              "      <td>Black</td>\n",
              "      <td>no</td>\n",
              "      <td>no</td>\n",
              "      <td>Austria</td>\n",
              "      <td>no</td>\n",
              "      <td>2</td>\n",
              "      <td>12-16 years</td>\n",
              "      <td>Relative</td>\n",
              "      <td>NO</td>\n",
              "    </tr>\n",
              "    <tr>\n",
              "      <th>2</th>\n",
              "      <td>3</td>\n",
              "      <td>0</td>\n",
              "      <td>0</td>\n",
              "      <td>0</td>\n",
              "      <td>0</td>\n",
              "      <td>0</td>\n",
              "      <td>0</td>\n",
              "      <td>0</td>\n",
              "      <td>0</td>\n",
              "      <td>1</td>\n",
              "      <td>...</td>\n",
              "      <td>f</td>\n",
              "      <td>?</td>\n",
              "      <td>no</td>\n",
              "      <td>no</td>\n",
              "      <td>AmericanSamoa</td>\n",
              "      <td>no</td>\n",
              "      <td>2</td>\n",
              "      <td>12-16 years</td>\n",
              "      <td>?</td>\n",
              "      <td>NO</td>\n",
              "    </tr>\n",
              "    <tr>\n",
              "      <th>3</th>\n",
              "      <td>4</td>\n",
              "      <td>0</td>\n",
              "      <td>1</td>\n",
              "      <td>1</td>\n",
              "      <td>1</td>\n",
              "      <td>1</td>\n",
              "      <td>1</td>\n",
              "      <td>0</td>\n",
              "      <td>1</td>\n",
              "      <td>1</td>\n",
              "      <td>...</td>\n",
              "      <td>f</td>\n",
              "      <td>White-European</td>\n",
              "      <td>no</td>\n",
              "      <td>no</td>\n",
              "      <td>United Kingdom</td>\n",
              "      <td>no</td>\n",
              "      <td>7</td>\n",
              "      <td>12-16 years</td>\n",
              "      <td>Self</td>\n",
              "      <td>YES</td>\n",
              "    </tr>\n",
              "    <tr>\n",
              "      <th>4</th>\n",
              "      <td>5</td>\n",
              "      <td>1</td>\n",
              "      <td>1</td>\n",
              "      <td>1</td>\n",
              "      <td>1</td>\n",
              "      <td>1</td>\n",
              "      <td>1</td>\n",
              "      <td>1</td>\n",
              "      <td>0</td>\n",
              "      <td>0</td>\n",
              "      <td>...</td>\n",
              "      <td>f</td>\n",
              "      <td>?</td>\n",
              "      <td>no</td>\n",
              "      <td>no</td>\n",
              "      <td>Albania</td>\n",
              "      <td>no</td>\n",
              "      <td>7</td>\n",
              "      <td>12-16 years</td>\n",
              "      <td>?</td>\n",
              "      <td>YES</td>\n",
              "    </tr>\n",
              "  </tbody>\n",
              "</table>\n",
              "<p>5 rows × 22 columns</p>\n",
              "</div>\n",
              "      <button class=\"colab-df-convert\" onclick=\"convertToInteractive('df-12ba508c-b1ea-44b4-b542-15b4b20ad8d4')\"\n",
              "              title=\"Convert this dataframe to an interactive table.\"\n",
              "              style=\"display:none;\">\n",
              "        \n",
              "  <svg xmlns=\"http://www.w3.org/2000/svg\" height=\"24px\"viewBox=\"0 0 24 24\"\n",
              "       width=\"24px\">\n",
              "    <path d=\"M0 0h24v24H0V0z\" fill=\"none\"/>\n",
              "    <path d=\"M18.56 5.44l.94 2.06.94-2.06 2.06-.94-2.06-.94-.94-2.06-.94 2.06-2.06.94zm-11 1L8.5 8.5l.94-2.06 2.06-.94-2.06-.94L8.5 2.5l-.94 2.06-2.06.94zm10 10l.94 2.06.94-2.06 2.06-.94-2.06-.94-.94-2.06-.94 2.06-2.06.94z\"/><path d=\"M17.41 7.96l-1.37-1.37c-.4-.4-.92-.59-1.43-.59-.52 0-1.04.2-1.43.59L10.3 9.45l-7.72 7.72c-.78.78-.78 2.05 0 2.83L4 21.41c.39.39.9.59 1.41.59.51 0 1.02-.2 1.41-.59l7.78-7.78 2.81-2.81c.8-.78.8-2.07 0-2.86zM5.41 20L4 18.59l7.72-7.72 1.47 1.35L5.41 20z\"/>\n",
              "  </svg>\n",
              "      </button>\n",
              "      \n",
              "  <style>\n",
              "    .colab-df-container {\n",
              "      display:flex;\n",
              "      flex-wrap:wrap;\n",
              "      gap: 12px;\n",
              "    }\n",
              "\n",
              "    .colab-df-convert {\n",
              "      background-color: #E8F0FE;\n",
              "      border: none;\n",
              "      border-radius: 50%;\n",
              "      cursor: pointer;\n",
              "      display: none;\n",
              "      fill: #1967D2;\n",
              "      height: 32px;\n",
              "      padding: 0 0 0 0;\n",
              "      width: 32px;\n",
              "    }\n",
              "\n",
              "    .colab-df-convert:hover {\n",
              "      background-color: #E2EBFA;\n",
              "      box-shadow: 0px 1px 2px rgba(60, 64, 67, 0.3), 0px 1px 3px 1px rgba(60, 64, 67, 0.15);\n",
              "      fill: #174EA6;\n",
              "    }\n",
              "\n",
              "    [theme=dark] .colab-df-convert {\n",
              "      background-color: #3B4455;\n",
              "      fill: #D2E3FC;\n",
              "    }\n",
              "\n",
              "    [theme=dark] .colab-df-convert:hover {\n",
              "      background-color: #434B5C;\n",
              "      box-shadow: 0px 1px 3px 1px rgba(0, 0, 0, 0.15);\n",
              "      filter: drop-shadow(0px 1px 2px rgba(0, 0, 0, 0.3));\n",
              "      fill: #FFFFFF;\n",
              "    }\n",
              "  </style>\n",
              "\n",
              "      <script>\n",
              "        const buttonEl =\n",
              "          document.querySelector('#df-12ba508c-b1ea-44b4-b542-15b4b20ad8d4 button.colab-df-convert');\n",
              "        buttonEl.style.display =\n",
              "          google.colab.kernel.accessAllowed ? 'block' : 'none';\n",
              "\n",
              "        async function convertToInteractive(key) {\n",
              "          const element = document.querySelector('#df-12ba508c-b1ea-44b4-b542-15b4b20ad8d4');\n",
              "          const dataTable =\n",
              "            await google.colab.kernel.invokeFunction('convertToInteractive',\n",
              "                                                     [key], {});\n",
              "          if (!dataTable) return;\n",
              "\n",
              "          const docLinkHtml = 'Like what you see? Visit the ' +\n",
              "            '<a target=\"_blank\" href=https://colab.research.google.com/notebooks/data_table.ipynb>data table notebook</a>'\n",
              "            + ' to learn more about interactive tables.';\n",
              "          element.innerHTML = '';\n",
              "          dataTable['output_type'] = 'display_data';\n",
              "          await google.colab.output.renderOutput(dataTable, element);\n",
              "          const docLink = document.createElement('div');\n",
              "          docLink.innerHTML = docLinkHtml;\n",
              "          element.appendChild(docLink);\n",
              "        }\n",
              "      </script>\n",
              "    </div>\n",
              "  </div>\n",
              "  "
            ],
            "text/plain": [
              "   id  A1_Score  A2_Score  A3_Score  A4_Score  A5_Score  A6_Score  A7_Score  \\\n",
              "0   1         0         0         0         1         1         1         1   \n",
              "1   2         0         0         0         0         0         0         0   \n",
              "2   3         0         0         0         0         0         0         0   \n",
              "3   4         0         1         1         1         1         1         0   \n",
              "4   5         1         1         1         1         1         1         1   \n",
              "\n",
              "   A8_Score  A9_Score  ...  gender       ethnicity jundice austim  \\\n",
              "0         1         1  ...       m        Hispanic     yes    yes   \n",
              "1         0         1  ...       m           Black      no     no   \n",
              "2         0         1  ...       f               ?      no     no   \n",
              "3         1         1  ...       f  White-European      no     no   \n",
              "4         0         0  ...       f               ?      no     no   \n",
              "\n",
              "    contry_of_res used_app_before result     age_desc  relation Class/ASD  \n",
              "0         Austria              no      6  12-16 years    Parent        NO  \n",
              "1         Austria              no      2  12-16 years  Relative        NO  \n",
              "2   AmericanSamoa              no      2  12-16 years         ?        NO  \n",
              "3  United Kingdom              no      7  12-16 years      Self       YES  \n",
              "4         Albania              no      7  12-16 years         ?       YES  \n",
              "\n",
              "[5 rows x 22 columns]"
            ]
          },
          "execution_count": 6,
          "metadata": {},
          "output_type": "execute_result"
        }
      ],
      "source": [
        "df.head()"
      ]
    },
    {
      "cell_type": "code",
      "execution_count": null,
      "metadata": {
        "colab": {
          "base_uri": "https://localhost:8080/",
          "height": 505
        },
        "id": "1Es9C3lV8NQJ",
        "outputId": "ed6323a2-dc82-4fc5-f043-ee0092cffc04"
      },
      "outputs": [
        {
          "data": {
            "text/html": [
              "\n",
              "  <div id=\"df-77d4cd5f-2091-40cd-b4b1-8f664f153447\">\n",
              "    <div class=\"colab-df-container\">\n",
              "      <div>\n",
              "<style scoped>\n",
              "    .dataframe tbody tr th:only-of-type {\n",
              "        vertical-align: middle;\n",
              "    }\n",
              "\n",
              "    .dataframe tbody tr th {\n",
              "        vertical-align: top;\n",
              "    }\n",
              "\n",
              "    .dataframe thead th {\n",
              "        text-align: right;\n",
              "    }\n",
              "</style>\n",
              "<table border=\"1\" class=\"dataframe\">\n",
              "  <thead>\n",
              "    <tr style=\"text-align: right;\">\n",
              "      <th></th>\n",
              "      <th>id</th>\n",
              "      <th>A1_Score</th>\n",
              "      <th>A2_Score</th>\n",
              "      <th>A3_Score</th>\n",
              "      <th>A4_Score</th>\n",
              "      <th>A5_Score</th>\n",
              "      <th>A6_Score</th>\n",
              "      <th>A7_Score</th>\n",
              "      <th>A8_Score</th>\n",
              "      <th>A9_Score</th>\n",
              "      <th>...</th>\n",
              "      <th>gender</th>\n",
              "      <th>ethnicity</th>\n",
              "      <th>jundice</th>\n",
              "      <th>austim</th>\n",
              "      <th>contry_of_res</th>\n",
              "      <th>used_app_before</th>\n",
              "      <th>result</th>\n",
              "      <th>age_desc</th>\n",
              "      <th>relation</th>\n",
              "      <th>Class/ASD</th>\n",
              "    </tr>\n",
              "  </thead>\n",
              "  <tbody>\n",
              "    <tr>\n",
              "      <th>count</th>\n",
              "      <td>1100.000000</td>\n",
              "      <td>1100.000000</td>\n",
              "      <td>1100.000000</td>\n",
              "      <td>1100.000000</td>\n",
              "      <td>1100.000000</td>\n",
              "      <td>1100.000000</td>\n",
              "      <td>1100.000000</td>\n",
              "      <td>1100.000000</td>\n",
              "      <td>1100.000000</td>\n",
              "      <td>1100.000000</td>\n",
              "      <td>...</td>\n",
              "      <td>1100</td>\n",
              "      <td>1100</td>\n",
              "      <td>1100</td>\n",
              "      <td>1100</td>\n",
              "      <td>1100</td>\n",
              "      <td>1100</td>\n",
              "      <td>1100.000000</td>\n",
              "      <td>1100</td>\n",
              "      <td>1100</td>\n",
              "      <td>1100</td>\n",
              "    </tr>\n",
              "    <tr>\n",
              "      <th>unique</th>\n",
              "      <td>NaN</td>\n",
              "      <td>NaN</td>\n",
              "      <td>NaN</td>\n",
              "      <td>NaN</td>\n",
              "      <td>NaN</td>\n",
              "      <td>NaN</td>\n",
              "      <td>NaN</td>\n",
              "      <td>NaN</td>\n",
              "      <td>NaN</td>\n",
              "      <td>NaN</td>\n",
              "      <td>...</td>\n",
              "      <td>2</td>\n",
              "      <td>12</td>\n",
              "      <td>2</td>\n",
              "      <td>2</td>\n",
              "      <td>89</td>\n",
              "      <td>2</td>\n",
              "      <td>NaN</td>\n",
              "      <td>4</td>\n",
              "      <td>7</td>\n",
              "      <td>2</td>\n",
              "    </tr>\n",
              "    <tr>\n",
              "      <th>top</th>\n",
              "      <td>NaN</td>\n",
              "      <td>NaN</td>\n",
              "      <td>NaN</td>\n",
              "      <td>NaN</td>\n",
              "      <td>NaN</td>\n",
              "      <td>NaN</td>\n",
              "      <td>NaN</td>\n",
              "      <td>NaN</td>\n",
              "      <td>NaN</td>\n",
              "      <td>NaN</td>\n",
              "      <td>...</td>\n",
              "      <td>m</td>\n",
              "      <td>White-European</td>\n",
              "      <td>no</td>\n",
              "      <td>no</td>\n",
              "      <td>United States</td>\n",
              "      <td>no</td>\n",
              "      <td>NaN</td>\n",
              "      <td>18 and more</td>\n",
              "      <td>Self</td>\n",
              "      <td>NO</td>\n",
              "    </tr>\n",
              "    <tr>\n",
              "      <th>freq</th>\n",
              "      <td>NaN</td>\n",
              "      <td>NaN</td>\n",
              "      <td>NaN</td>\n",
              "      <td>NaN</td>\n",
              "      <td>NaN</td>\n",
              "      <td>NaN</td>\n",
              "      <td>NaN</td>\n",
              "      <td>NaN</td>\n",
              "      <td>NaN</td>\n",
              "      <td>NaN</td>\n",
              "      <td>...</td>\n",
              "      <td>625</td>\n",
              "      <td>381</td>\n",
              "      <td>935</td>\n",
              "      <td>946</td>\n",
              "      <td>167</td>\n",
              "      <td>1073</td>\n",
              "      <td>NaN</td>\n",
              "      <td>704</td>\n",
              "      <td>571</td>\n",
              "      <td>707</td>\n",
              "    </tr>\n",
              "    <tr>\n",
              "      <th>mean</th>\n",
              "      <td>269.452727</td>\n",
              "      <td>0.699091</td>\n",
              "      <td>0.482727</td>\n",
              "      <td>0.551818</td>\n",
              "      <td>0.530000</td>\n",
              "      <td>0.587273</td>\n",
              "      <td>0.443636</td>\n",
              "      <td>0.477273</td>\n",
              "      <td>0.605455</td>\n",
              "      <td>0.412727</td>\n",
              "      <td>...</td>\n",
              "      <td>NaN</td>\n",
              "      <td>NaN</td>\n",
              "      <td>NaN</td>\n",
              "      <td>NaN</td>\n",
              "      <td>NaN</td>\n",
              "      <td>NaN</td>\n",
              "      <td>5.411818</td>\n",
              "      <td>NaN</td>\n",
              "      <td>NaN</td>\n",
              "      <td>NaN</td>\n",
              "    </tr>\n",
              "    <tr>\n",
              "      <th>std</th>\n",
              "      <td>203.270172</td>\n",
              "      <td>0.458862</td>\n",
              "      <td>0.499929</td>\n",
              "      <td>0.497534</td>\n",
              "      <td>0.499326</td>\n",
              "      <td>0.492548</td>\n",
              "      <td>0.497039</td>\n",
              "      <td>0.499710</td>\n",
              "      <td>0.488975</td>\n",
              "      <td>0.492548</td>\n",
              "      <td>...</td>\n",
              "      <td>NaN</td>\n",
              "      <td>NaN</td>\n",
              "      <td>NaN</td>\n",
              "      <td>NaN</td>\n",
              "      <td>NaN</td>\n",
              "      <td>NaN</td>\n",
              "      <td>2.523492</td>\n",
              "      <td>NaN</td>\n",
              "      <td>NaN</td>\n",
              "      <td>NaN</td>\n",
              "    </tr>\n",
              "    <tr>\n",
              "      <th>min</th>\n",
              "      <td>1.000000</td>\n",
              "      <td>0.000000</td>\n",
              "      <td>0.000000</td>\n",
              "      <td>0.000000</td>\n",
              "      <td>0.000000</td>\n",
              "      <td>0.000000</td>\n",
              "      <td>0.000000</td>\n",
              "      <td>0.000000</td>\n",
              "      <td>0.000000</td>\n",
              "      <td>0.000000</td>\n",
              "      <td>...</td>\n",
              "      <td>NaN</td>\n",
              "      <td>NaN</td>\n",
              "      <td>NaN</td>\n",
              "      <td>NaN</td>\n",
              "      <td>NaN</td>\n",
              "      <td>NaN</td>\n",
              "      <td>0.000000</td>\n",
              "      <td>NaN</td>\n",
              "      <td>NaN</td>\n",
              "      <td>NaN</td>\n",
              "    </tr>\n",
              "    <tr>\n",
              "      <th>25%</th>\n",
              "      <td>92.000000</td>\n",
              "      <td>0.000000</td>\n",
              "      <td>0.000000</td>\n",
              "      <td>0.000000</td>\n",
              "      <td>0.000000</td>\n",
              "      <td>0.000000</td>\n",
              "      <td>0.000000</td>\n",
              "      <td>0.000000</td>\n",
              "      <td>0.000000</td>\n",
              "      <td>0.000000</td>\n",
              "      <td>...</td>\n",
              "      <td>NaN</td>\n",
              "      <td>NaN</td>\n",
              "      <td>NaN</td>\n",
              "      <td>NaN</td>\n",
              "      <td>NaN</td>\n",
              "      <td>NaN</td>\n",
              "      <td>3.000000</td>\n",
              "      <td>NaN</td>\n",
              "      <td>NaN</td>\n",
              "      <td>NaN</td>\n",
              "    </tr>\n",
              "    <tr>\n",
              "      <th>50%</th>\n",
              "      <td>223.500000</td>\n",
              "      <td>1.000000</td>\n",
              "      <td>0.000000</td>\n",
              "      <td>1.000000</td>\n",
              "      <td>1.000000</td>\n",
              "      <td>1.000000</td>\n",
              "      <td>0.000000</td>\n",
              "      <td>0.000000</td>\n",
              "      <td>1.000000</td>\n",
              "      <td>0.000000</td>\n",
              "      <td>...</td>\n",
              "      <td>NaN</td>\n",
              "      <td>NaN</td>\n",
              "      <td>NaN</td>\n",
              "      <td>NaN</td>\n",
              "      <td>NaN</td>\n",
              "      <td>NaN</td>\n",
              "      <td>5.000000</td>\n",
              "      <td>NaN</td>\n",
              "      <td>NaN</td>\n",
              "      <td>NaN</td>\n",
              "    </tr>\n",
              "    <tr>\n",
              "      <th>75%</th>\n",
              "      <td>429.250000</td>\n",
              "      <td>1.000000</td>\n",
              "      <td>1.000000</td>\n",
              "      <td>1.000000</td>\n",
              "      <td>1.000000</td>\n",
              "      <td>1.000000</td>\n",
              "      <td>1.000000</td>\n",
              "      <td>1.000000</td>\n",
              "      <td>1.000000</td>\n",
              "      <td>1.000000</td>\n",
              "      <td>...</td>\n",
              "      <td>NaN</td>\n",
              "      <td>NaN</td>\n",
              "      <td>NaN</td>\n",
              "      <td>NaN</td>\n",
              "      <td>NaN</td>\n",
              "      <td>NaN</td>\n",
              "      <td>7.250000</td>\n",
              "      <td>NaN</td>\n",
              "      <td>NaN</td>\n",
              "      <td>NaN</td>\n",
              "    </tr>\n",
              "    <tr>\n",
              "      <th>max</th>\n",
              "      <td>704.000000</td>\n",
              "      <td>1.000000</td>\n",
              "      <td>1.000000</td>\n",
              "      <td>1.000000</td>\n",
              "      <td>1.000000</td>\n",
              "      <td>1.000000</td>\n",
              "      <td>1.000000</td>\n",
              "      <td>1.000000</td>\n",
              "      <td>1.000000</td>\n",
              "      <td>1.000000</td>\n",
              "      <td>...</td>\n",
              "      <td>NaN</td>\n",
              "      <td>NaN</td>\n",
              "      <td>NaN</td>\n",
              "      <td>NaN</td>\n",
              "      <td>NaN</td>\n",
              "      <td>NaN</td>\n",
              "      <td>10.000000</td>\n",
              "      <td>NaN</td>\n",
              "      <td>NaN</td>\n",
              "      <td>NaN</td>\n",
              "    </tr>\n",
              "  </tbody>\n",
              "</table>\n",
              "<p>11 rows × 22 columns</p>\n",
              "</div>\n",
              "      <button class=\"colab-df-convert\" onclick=\"convertToInteractive('df-77d4cd5f-2091-40cd-b4b1-8f664f153447')\"\n",
              "              title=\"Convert this dataframe to an interactive table.\"\n",
              "              style=\"display:none;\">\n",
              "        \n",
              "  <svg xmlns=\"http://www.w3.org/2000/svg\" height=\"24px\"viewBox=\"0 0 24 24\"\n",
              "       width=\"24px\">\n",
              "    <path d=\"M0 0h24v24H0V0z\" fill=\"none\"/>\n",
              "    <path d=\"M18.56 5.44l.94 2.06.94-2.06 2.06-.94-2.06-.94-.94-2.06-.94 2.06-2.06.94zm-11 1L8.5 8.5l.94-2.06 2.06-.94-2.06-.94L8.5 2.5l-.94 2.06-2.06.94zm10 10l.94 2.06.94-2.06 2.06-.94-2.06-.94-.94-2.06-.94 2.06-2.06.94z\"/><path d=\"M17.41 7.96l-1.37-1.37c-.4-.4-.92-.59-1.43-.59-.52 0-1.04.2-1.43.59L10.3 9.45l-7.72 7.72c-.78.78-.78 2.05 0 2.83L4 21.41c.39.39.9.59 1.41.59.51 0 1.02-.2 1.41-.59l7.78-7.78 2.81-2.81c.8-.78.8-2.07 0-2.86zM5.41 20L4 18.59l7.72-7.72 1.47 1.35L5.41 20z\"/>\n",
              "  </svg>\n",
              "      </button>\n",
              "      \n",
              "  <style>\n",
              "    .colab-df-container {\n",
              "      display:flex;\n",
              "      flex-wrap:wrap;\n",
              "      gap: 12px;\n",
              "    }\n",
              "\n",
              "    .colab-df-convert {\n",
              "      background-color: #E8F0FE;\n",
              "      border: none;\n",
              "      border-radius: 50%;\n",
              "      cursor: pointer;\n",
              "      display: none;\n",
              "      fill: #1967D2;\n",
              "      height: 32px;\n",
              "      padding: 0 0 0 0;\n",
              "      width: 32px;\n",
              "    }\n",
              "\n",
              "    .colab-df-convert:hover {\n",
              "      background-color: #E2EBFA;\n",
              "      box-shadow: 0px 1px 2px rgba(60, 64, 67, 0.3), 0px 1px 3px 1px rgba(60, 64, 67, 0.15);\n",
              "      fill: #174EA6;\n",
              "    }\n",
              "\n",
              "    [theme=dark] .colab-df-convert {\n",
              "      background-color: #3B4455;\n",
              "      fill: #D2E3FC;\n",
              "    }\n",
              "\n",
              "    [theme=dark] .colab-df-convert:hover {\n",
              "      background-color: #434B5C;\n",
              "      box-shadow: 0px 1px 3px 1px rgba(0, 0, 0, 0.15);\n",
              "      filter: drop-shadow(0px 1px 2px rgba(0, 0, 0, 0.3));\n",
              "      fill: #FFFFFF;\n",
              "    }\n",
              "  </style>\n",
              "\n",
              "      <script>\n",
              "        const buttonEl =\n",
              "          document.querySelector('#df-77d4cd5f-2091-40cd-b4b1-8f664f153447 button.colab-df-convert');\n",
              "        buttonEl.style.display =\n",
              "          google.colab.kernel.accessAllowed ? 'block' : 'none';\n",
              "\n",
              "        async function convertToInteractive(key) {\n",
              "          const element = document.querySelector('#df-77d4cd5f-2091-40cd-b4b1-8f664f153447');\n",
              "          const dataTable =\n",
              "            await google.colab.kernel.invokeFunction('convertToInteractive',\n",
              "                                                     [key], {});\n",
              "          if (!dataTable) return;\n",
              "\n",
              "          const docLinkHtml = 'Like what you see? Visit the ' +\n",
              "            '<a target=\"_blank\" href=https://colab.research.google.com/notebooks/data_table.ipynb>data table notebook</a>'\n",
              "            + ' to learn more about interactive tables.';\n",
              "          element.innerHTML = '';\n",
              "          dataTable['output_type'] = 'display_data';\n",
              "          await google.colab.output.renderOutput(dataTable, element);\n",
              "          const docLink = document.createElement('div');\n",
              "          docLink.innerHTML = docLinkHtml;\n",
              "          element.appendChild(docLink);\n",
              "        }\n",
              "      </script>\n",
              "    </div>\n",
              "  </div>\n",
              "  "
            ],
            "text/plain": [
              "                 id     A1_Score     A2_Score     A3_Score     A4_Score  \\\n",
              "count   1100.000000  1100.000000  1100.000000  1100.000000  1100.000000   \n",
              "unique          NaN          NaN          NaN          NaN          NaN   \n",
              "top             NaN          NaN          NaN          NaN          NaN   \n",
              "freq            NaN          NaN          NaN          NaN          NaN   \n",
              "mean     269.452727     0.699091     0.482727     0.551818     0.530000   \n",
              "std      203.270172     0.458862     0.499929     0.497534     0.499326   \n",
              "min        1.000000     0.000000     0.000000     0.000000     0.000000   \n",
              "25%       92.000000     0.000000     0.000000     0.000000     0.000000   \n",
              "50%      223.500000     1.000000     0.000000     1.000000     1.000000   \n",
              "75%      429.250000     1.000000     1.000000     1.000000     1.000000   \n",
              "max      704.000000     1.000000     1.000000     1.000000     1.000000   \n",
              "\n",
              "           A5_Score     A6_Score     A7_Score     A8_Score     A9_Score  ...  \\\n",
              "count   1100.000000  1100.000000  1100.000000  1100.000000  1100.000000  ...   \n",
              "unique          NaN          NaN          NaN          NaN          NaN  ...   \n",
              "top             NaN          NaN          NaN          NaN          NaN  ...   \n",
              "freq            NaN          NaN          NaN          NaN          NaN  ...   \n",
              "mean       0.587273     0.443636     0.477273     0.605455     0.412727  ...   \n",
              "std        0.492548     0.497039     0.499710     0.488975     0.492548  ...   \n",
              "min        0.000000     0.000000     0.000000     0.000000     0.000000  ...   \n",
              "25%        0.000000     0.000000     0.000000     0.000000     0.000000  ...   \n",
              "50%        1.000000     0.000000     0.000000     1.000000     0.000000  ...   \n",
              "75%        1.000000     1.000000     1.000000     1.000000     1.000000  ...   \n",
              "max        1.000000     1.000000     1.000000     1.000000     1.000000  ...   \n",
              "\n",
              "        gender       ethnicity jundice austim  contry_of_res used_app_before  \\\n",
              "count     1100            1100    1100   1100           1100            1100   \n",
              "unique       2              12       2      2             89               2   \n",
              "top          m  White-European      no     no  United States              no   \n",
              "freq       625             381     935    946            167            1073   \n",
              "mean       NaN             NaN     NaN    NaN            NaN             NaN   \n",
              "std        NaN             NaN     NaN    NaN            NaN             NaN   \n",
              "min        NaN             NaN     NaN    NaN            NaN             NaN   \n",
              "25%        NaN             NaN     NaN    NaN            NaN             NaN   \n",
              "50%        NaN             NaN     NaN    NaN            NaN             NaN   \n",
              "75%        NaN             NaN     NaN    NaN            NaN             NaN   \n",
              "max        NaN             NaN     NaN    NaN            NaN             NaN   \n",
              "\n",
              "             result     age_desc  relation Class/ASD  \n",
              "count   1100.000000         1100      1100      1100  \n",
              "unique          NaN            4         7         2  \n",
              "top             NaN  18 and more      Self        NO  \n",
              "freq            NaN          704       571       707  \n",
              "mean       5.411818          NaN       NaN       NaN  \n",
              "std        2.523492          NaN       NaN       NaN  \n",
              "min        0.000000          NaN       NaN       NaN  \n",
              "25%        3.000000          NaN       NaN       NaN  \n",
              "50%        5.000000          NaN       NaN       NaN  \n",
              "75%        7.250000          NaN       NaN       NaN  \n",
              "max       10.000000          NaN       NaN       NaN  \n",
              "\n",
              "[11 rows x 22 columns]"
            ]
          },
          "execution_count": 7,
          "metadata": {},
          "output_type": "execute_result"
        }
      ],
      "source": [
        "df.describe(include='all')"
      ]
    },
    {
      "cell_type": "code",
      "execution_count": null,
      "metadata": {
        "colab": {
          "base_uri": "https://localhost:8080/",
          "height": 551
        },
        "id": "UgB7c0giDYFz",
        "outputId": "3984e133-8583-4ec5-90d7-6509b0793955"
      },
      "outputs": [
        {
          "data": {
            "application/javascript": [
              "\n",
              "    async function download(id, filename, size) {\n",
              "      if (!google.colab.kernel.accessAllowed) {\n",
              "        return;\n",
              "      }\n",
              "      const div = document.createElement('div');\n",
              "      const label = document.createElement('label');\n",
              "      label.textContent = `Downloading \"${filename}\": `;\n",
              "      div.appendChild(label);\n",
              "      const progress = document.createElement('progress');\n",
              "      progress.max = size;\n",
              "      div.appendChild(progress);\n",
              "      document.body.appendChild(div);\n",
              "\n",
              "      const buffers = [];\n",
              "      let downloaded = 0;\n",
              "\n",
              "      const channel = await google.colab.kernel.comms.open(id);\n",
              "      // Send a message to notify the kernel that we're ready.\n",
              "      channel.send({})\n",
              "\n",
              "      for await (const message of channel.messages) {\n",
              "        // Send a message to notify the kernel that we're ready.\n",
              "        channel.send({})\n",
              "        if (message.buffers) {\n",
              "          for (const buffer of message.buffers) {\n",
              "            buffers.push(buffer);\n",
              "            downloaded += buffer.byteLength;\n",
              "            progress.value = downloaded;\n",
              "          }\n",
              "        }\n",
              "      }\n",
              "      const blob = new Blob(buffers, {type: 'application/binary'});\n",
              "      const a = document.createElement('a');\n",
              "      a.href = window.URL.createObjectURL(blob);\n",
              "      a.download = filename;\n",
              "      div.appendChild(a);\n",
              "      a.click();\n",
              "      div.remove();\n",
              "    }\n",
              "  "
            ],
            "text/plain": [
              "<IPython.core.display.Javascript object>"
            ]
          },
          "metadata": {},
          "output_type": "display_data"
        },
        {
          "data": {
            "application/javascript": [
              "download(\"download_51e3bea5-8f3b-4fa7-9c83-e4522254f4d1\", \"asd.png\", 10314)"
            ],
            "text/plain": [
              "<IPython.core.display.Javascript object>"
            ]
          },
          "metadata": {},
          "output_type": "display_data"
        },
        {
          "data": {
            "image/png": "[encoded data removed]",
            "text/plain": [
              "<Figure size 864x648 with 1 Axes>"
            ]
          },
          "metadata": {},
          "output_type": "display_data"
        }
      ],
      "source": [
        "plt.figure(figsize=(12,9))\n",
        "sns.countplot(data=df, x='Class/ASD')"
      ]
    },
    {
      "cell_type": "code",
      "execution_count": null,
      "metadata": {
        "colab": {
          "base_uri": "https://localhost:8080/",
          "height": 569
        },
        "id": "HuFHdpqrDxkA",
        "outputId": "4b15bb28-718e-4372-c526-d703c8601005"
      },
      "outputs": [
        {
          "data": {
            "text/plain": [
              "<matplotlib.axes._subplots.AxesSubplot at 0x7f68b4ecb650>"
            ]
          },
          "execution_count": 8,
          "metadata": {},
          "output_type": "execute_result"
        },
        {
          "data": {
            "image/png": "[encoded data removed]",
            "text/plain": [
              "<Figure size 864x648 with 1 Axes>"
            ]
          },
          "metadata": {},
          "output_type": "display_data"
        }
      ],
      "source": [
        "plt.figure(figsize=(12,9))\n",
        "df_age=df.groupby('age_desc')['Class/ASD'].value_counts().to_frame().rename(columns={'Class/ASD':'count'}).reset_index()\n",
        "sns.barplot(data=df_age, x='age_desc', y='count', hue='Class/ASD')"
      ]
    },
    {
      "cell_type": "code",
      "execution_count": null,
      "metadata": {
        "colab": {
          "base_uri": "https://localhost:8080/",
          "height": 625
        },
        "id": "i4FlzYE8kUKe",
        "outputId": "2c268115-5a24-4445-f006-3f5ac66556aa"
      },
      "outputs": [
        {
          "data": {
            "application/javascript": [
              "\n",
              "    async function download(id, filename, size) {\n",
              "      if (!google.colab.kernel.accessAllowed) {\n",
              "        return;\n",
              "      }\n",
              "      const div = document.createElement('div');\n",
              "      const label = document.createElement('label');\n",
              "      label.textContent = `Downloading \"${filename}\": `;\n",
              "      div.appendChild(label);\n",
              "      const progress = document.createElement('progress');\n",
              "      progress.max = size;\n",
              "      div.appendChild(progress);\n",
              "      document.body.appendChild(div);\n",
              "\n",
              "      const buffers = [];\n",
              "      let downloaded = 0;\n",
              "\n",
              "      const channel = await google.colab.kernel.comms.open(id);\n",
              "      // Send a message to notify the kernel that we're ready.\n",
              "      channel.send({})\n",
              "\n",
              "      for await (const message of channel.messages) {\n",
              "        // Send a message to notify the kernel that we're ready.\n",
              "        channel.send({})\n",
              "        if (message.buffers) {\n",
              "          for (const buffer of message.buffers) {\n",
              "            buffers.push(buffer);\n",
              "            downloaded += buffer.byteLength;\n",
              "            progress.value = downloaded;\n",
              "          }\n",
              "        }\n",
              "      }\n",
              "      const blob = new Blob(buffers, {type: 'application/binary'});\n",
              "      const a = document.createElement('a');\n",
              "      a.href = window.URL.createObjectURL(blob);\n",
              "      a.download = filename;\n",
              "      div.appendChild(a);\n",
              "      a.click();\n",
              "      div.remove();\n",
              "    }\n",
              "  "
            ],
            "text/plain": [
              "<IPython.core.display.Javascript object>"
            ]
          },
          "metadata": {},
          "output_type": "display_data"
        },
        {
          "data": {
            "application/javascript": [
              "download(\"download_5e746005-7aab-42f7-9a8b-e46da28fcd14\", \"asd.png\", 19202)"
            ],
            "text/plain": [
              "<IPython.core.display.Javascript object>"
            ]
          },
          "metadata": {},
          "output_type": "display_data"
        },
        {
          "data": {
            "image/png": "[encoded data removed]",
            "text/plain": [
              "<Figure size 864x648 with 1 Axes>"
            ]
          },
          "metadata": {},
          "output_type": "display_data"
        }
      ],
      "source": [
        "df.groupby('ethnicity')['Class/ASD'].value_counts().to_frame().rename(columns={'Class/ASD':'count'}).\\\n",
        "reset_index().pivot(\"ethnicity\", 'Class/ASD',\t'count').plot(kind='bar', stacked=True, figsize=(12,9))\n"
      ]
    },
    {
      "cell_type": "code",
      "execution_count": null,
      "metadata": {
        "id": "dHliXDP7tci4"
      },
      "outputs": [],
      "source": [
        "df['contry_of_res'].value_counts().to_frame().plot(kind='barh',color='purple',figsize=(12,25))"
      ]
    },
    {
      "cell_type": "code",
      "execution_count": null,
      "metadata": {
        "colab": {
          "base_uri": "https://localhost:8080/",
          "height": 520
        },
        "id": "0HO_J3MvsmeJ",
        "outputId": "56b94a6f-8bfe-4ee8-f3df-515b76a27e73"
      },
      "outputs": [
        {
          "data": {
            "application/javascript": [
              "\n",
              "    async function download(id, filename, size) {\n",
              "      if (!google.colab.kernel.accessAllowed) {\n",
              "        return;\n",
              "      }\n",
              "      const div = document.createElement('div');\n",
              "      const label = document.createElement('label');\n",
              "      label.textContent = `Downloading \"${filename}\": `;\n",
              "      div.appendChild(label);\n",
              "      const progress = document.createElement('progress');\n",
              "      progress.max = size;\n",
              "      div.appendChild(progress);\n",
              "      document.body.appendChild(div);\n",
              "\n",
              "      const buffers = [];\n",
              "      let downloaded = 0;\n",
              "\n",
              "      const channel = await google.colab.kernel.comms.open(id);\n",
              "      // Send a message to notify the kernel that we're ready.\n",
              "      channel.send({})\n",
              "\n",
              "      for await (const message of channel.messages) {\n",
              "        // Send a message to notify the kernel that we're ready.\n",
              "        channel.send({})\n",
              "        if (message.buffers) {\n",
              "          for (const buffer of message.buffers) {\n",
              "            buffers.push(buffer);\n",
              "            downloaded += buffer.byteLength;\n",
              "            progress.value = downloaded;\n",
              "          }\n",
              "        }\n",
              "      }\n",
              "      const blob = new Blob(buffers, {type: 'application/binary'});\n",
              "      const a = document.createElement('a');\n",
              "      a.href = window.URL.createObjectURL(blob);\n",
              "      a.download = filename;\n",
              "      div.appendChild(a);\n",
              "      a.click();\n",
              "      div.remove();\n",
              "    }\n",
              "  "
            ],
            "text/plain": [
              "<IPython.core.display.Javascript object>"
            ]
          },
          "metadata": {},
          "output_type": "display_data"
        },
        {
          "data": {
            "application/javascript": [
              "download(\"download_9d8bf10e-6c01-4dee-8f04-3572227a01a6\", \"asd.png\", 16195)"
            ],
            "text/plain": [
              "<IPython.core.display.Javascript object>"
            ]
          },
          "metadata": {},
          "output_type": "display_data"
        },
        {
          "data": {
            "image/png": "[encoded data removed]",
            "text/plain": [
              "<Figure size 864x648 with 1 Axes>"
            ]
          },
          "metadata": {},
          "output_type": "display_data"
        }
      ],
      "source": [
        "df['gender'].value_counts().plot(kind='pie', autopct='%1.0f%%', figsize=(12,9))"
      ]
    },
    {
      "cell_type": "code",
      "execution_count": null,
      "metadata": {
        "colab": {
          "base_uri": "https://localhost:8080/",
          "height": 466
        },
        "id": "IJoBFmWnymRR",
        "outputId": "bf35010f-8b1c-475f-d074-0e6e9b006284"
      },
      "outputs": [
        {
          "data": {
            "application/javascript": [
              "\n",
              "    async function download(id, filename, size) {\n",
              "      if (!google.colab.kernel.accessAllowed) {\n",
              "        return;\n",
              "      }\n",
              "      const div = document.createElement('div');\n",
              "      const label = document.createElement('label');\n",
              "      label.textContent = `Downloading \"${filename}\": `;\n",
              "      div.appendChild(label);\n",
              "      const progress = document.createElement('progress');\n",
              "      progress.max = size;\n",
              "      div.appendChild(progress);\n",
              "      document.body.appendChild(div);\n",
              "\n",
              "      const buffers = [];\n",
              "      let downloaded = 0;\n",
              "\n",
              "      const channel = await google.colab.kernel.comms.open(id);\n",
              "      // Send a message to notify the kernel that we're ready.\n",
              "      channel.send({})\n",
              "\n",
              "      for await (const message of channel.messages) {\n",
              "        // Send a message to notify the kernel that we're ready.\n",
              "        channel.send({})\n",
              "        if (message.buffers) {\n",
              "          for (const buffer of message.buffers) {\n",
              "            buffers.push(buffer);\n",
              "            downloaded += buffer.byteLength;\n",
              "            progress.value = downloaded;\n",
              "          }\n",
              "        }\n",
              "      }\n",
              "      const blob = new Blob(buffers, {type: 'application/binary'});\n",
              "      const a = document.createElement('a');\n",
              "      a.href = window.URL.createObjectURL(blob);\n",
              "      a.download = filename;\n",
              "      div.appendChild(a);\n",
              "      a.click();\n",
              "      div.remove();\n",
              "    }\n",
              "  "
            ],
            "text/plain": [
              "<IPython.core.display.Javascript object>"
            ]
          },
          "metadata": {},
          "output_type": "display_data"
        },
        {
          "data": {
            "application/javascript": [
              "download(\"download_ba7c7488-e915-4448-8380-9b46b47a597b\", \"asd.png\", 19186)"
            ],
            "text/plain": [
              "<IPython.core.display.Javascript object>"
            ]
          },
          "metadata": {},
          "output_type": "display_data"
        },
        {
          "data": {
            "image/png": "[encoded data removed]",
            "text/plain": [
              "<Figure size 1080x576 with 1 Axes>"
            ]
          },
          "metadata": {},
          "output_type": "display_data"
        }
      ],
      "source": [
        "df_t=df['jundice'].value_counts().to_frame().reset_index()\n",
        "colors= ['#FF0000', '#0000FF']\n",
        "labels=['Not Jaundiced','Jaundiced']\n",
        "# Pie Chart\n",
        "df_t['jundice'].plot(kind='pie', colors=colors, labels=labels, autopct='%1.0f%%', pctdistance=0.85,figsize=(15,8))\n",
        "  \n",
        "# draw circle\n",
        "centre_circle = plt.Circle((0, 0), 0.70, fc='white')\n",
        "fig = plt.gcf()\n",
        "  \n",
        "# Adding Circle in Pie chart\n",
        "fig.gca().add_artist(centre_circle)\n"
      ]
    },
    {
      "cell_type": "code",
      "execution_count": null,
      "metadata": {
        "colab": {
          "base_uri": "https://localhost:8080/",
          "height": 490
        },
        "id": "JW4GXh4Vzqqt",
        "outputId": "a8162d7b-259b-4424-a398-53aa79a76923"
      },
      "outputs": [
        {
          "data": {
            "application/javascript": [
              "\n",
              "    async function download(id, filename, size) {\n",
              "      if (!google.colab.kernel.accessAllowed) {\n",
              "        return;\n",
              "      }\n",
              "      const div = document.createElement('div');\n",
              "      const label = document.createElement('label');\n",
              "      label.textContent = `Downloading \"${filename}\": `;\n",
              "      div.appendChild(label);\n",
              "      const progress = document.createElement('progress');\n",
              "      progress.max = size;\n",
              "      div.appendChild(progress);\n",
              "      document.body.appendChild(div);\n",
              "\n",
              "      const buffers = [];\n",
              "      let downloaded = 0;\n",
              "\n",
              "      const channel = await google.colab.kernel.comms.open(id);\n",
              "      // Send a message to notify the kernel that we're ready.\n",
              "      channel.send({})\n",
              "\n",
              "      for await (const message of channel.messages) {\n",
              "        // Send a message to notify the kernel that we're ready.\n",
              "        channel.send({})\n",
              "        if (message.buffers) {\n",
              "          for (const buffer of message.buffers) {\n",
              "            buffers.push(buffer);\n",
              "            downloaded += buffer.byteLength;\n",
              "            progress.value = downloaded;\n",
              "          }\n",
              "        }\n",
              "      }\n",
              "      const blob = new Blob(buffers, {type: 'application/binary'});\n",
              "      const a = document.createElement('a');\n",
              "      a.href = window.URL.createObjectURL(blob);\n",
              "      a.download = filename;\n",
              "      div.appendChild(a);\n",
              "      a.click();\n",
              "      div.remove();\n",
              "    }\n",
              "  "
            ],
            "text/plain": [
              "<IPython.core.display.Javascript object>"
            ]
          },
          "metadata": {},
          "output_type": "display_data"
        },
        {
          "data": {
            "application/javascript": [
              "download(\"download_5c28ba49-1bf2-45eb-8537-59e1e0f2287e\", \"asd.png\", 8876)"
            ],
            "text/plain": [
              "<IPython.core.display.Javascript object>"
            ]
          },
          "metadata": {},
          "output_type": "display_data"
        },
        {
          "data": {
            "image/png": "[encoded data removed]",
            "text/plain": [
              "<Figure size 864x576 with 1 Axes>"
            ]
          },
          "metadata": {},
          "output_type": "display_data"
        }
      ],
      "source": [
        "df['used_app_before'].value_counts().to_frame().plot(kind='bar', color= 'b', figsize=(12,8))"
      ]
    },
    {
      "cell_type": "markdown",
      "metadata": {
        "id": "9Kn0A89x4uLY"
      },
      "source": [
        "## **Data Cleaning**"
      ]
    },
    {
      "cell_type": "markdown",
      "metadata": {
        "id": "gIphdNL0-clm"
      },
      "source": [
        "Handling Missing Values"
      ]
    },
    {
      "cell_type": "code",
      "execution_count": null,
      "metadata": {
        "id": "PzpBozb28WQV"
      },
      "outputs": [],
      "source": [
        "import numpy as np\n",
        "df.replace('?', np.nan, inplace=True)"
      ]
    },
    {
      "cell_type": "code",
      "execution_count": null,
      "metadata": {
        "colab": {
          "base_uri": "https://localhost:8080/"
        },
        "id": "dXIHNvyd4yIq",
        "outputId": "6e7f2e0f-8dd3-4317-e03a-e297d94a0f7d"
      },
      "outputs": [
        {
          "data": {
            "text/plain": [
              "id                   0\n",
              "A1_Score             0\n",
              "A2_Score             0\n",
              "A3_Score             0\n",
              "A4_Score             0\n",
              "A5_Score             0\n",
              "A6_Score             0\n",
              "A7_Score             0\n",
              "A8_Score             0\n",
              "A9_Score             0\n",
              "A10_Score            0\n",
              "age                  6\n",
              "gender               0\n",
              "ethnicity          144\n",
              "jundice              0\n",
              "austim               0\n",
              "contry_of_res        0\n",
              "used_app_before      0\n",
              "result               0\n",
              "age_desc             0\n",
              "relation           144\n",
              "Class/ASD            0\n",
              "dtype: int64"
            ]
          },
          "execution_count": 44,
          "metadata": {},
          "output_type": "execute_result"
        }
      ],
      "source": [
        "df.isna().sum()"
      ]
    },
    {
      "cell_type": "code",
      "execution_count": null,
      "metadata": {
        "id": "rOglxwcw8lD1"
      },
      "outputs": [],
      "source": [
        "df['age'].replace(np.nan, '0', inplace=True)\n",
        "df['age']=df['age'].astype('int64')\n",
        "\n",
        "df['age'].fillna(int(df['age'].mean()), inplace=True)\n",
        "df['ethnicity'].replace(np.nan,'White-European', inplace=True)\n",
        "df['relation'].replace(np.nan,'Self', inplace=True)\n"
      ]
    },
    {
      "cell_type": "markdown",
      "metadata": {
        "id": "Rw9KCiZc-W1D"
      },
      "source": [
        "Handling Categorical Variables with Label encoding"
      ]
    },
    {
      "cell_type": "code",
      "execution_count": null,
      "metadata": {
        "colab": {
          "base_uri": "https://localhost:8080/"
        },
        "id": "vmEljUEK47Cn",
        "outputId": "fd3af42f-a708-4e66-b04c-7a75957228e4"
      },
      "outputs": [
        {
          "data": {
            "text/plain": [
              "id                 int64\n",
              "A1_Score           int64\n",
              "A2_Score           int64\n",
              "A3_Score           int64\n",
              "A4_Score           int64\n",
              "A5_Score           int64\n",
              "A6_Score           int64\n",
              "A7_Score           int64\n",
              "A8_Score           int64\n",
              "A9_Score           int64\n",
              "A10_Score          int64\n",
              "age                int64\n",
              "gender             int64\n",
              "ethnicity          int64\n",
              "jundice            int64\n",
              "austim             int64\n",
              "contry_of_res      int64\n",
              "used_app_before    int64\n",
              "result             int64\n",
              "age_desc           int64\n",
              "relation           int64\n",
              "Class/ASD          int64\n",
              "dtype: object"
            ]
          },
          "execution_count": 19,
          "metadata": {},
          "output_type": "execute_result"
        }
      ],
      "source": [
        "df.dtypes"
      ]
    },
    {
      "cell_type": "code",
      "execution_count": null,
      "metadata": {
        "id": "OCSG8oSy7OiQ"
      },
      "outputs": [],
      "source": [
        "df['gender'].replace('m', 1, inplace=True)\n",
        "df['gender'].replace('f', 2, inplace=True)"
      ]
    },
    {
      "cell_type": "code",
      "execution_count": null,
      "metadata": {
        "id": "7ZEVicr7BPix"
      },
      "outputs": [],
      "source": [
        "df['austim'].replace('yes', 1, inplace=True)\n",
        "df['austim'].replace('no', 2, inplace=True)"
      ]
    },
    {
      "cell_type": "code",
      "execution_count": null,
      "metadata": {
        "id": "7QfBkhnACOmg"
      },
      "outputs": [],
      "source": [
        "df['used_app_before'].replace('yes', 1, inplace=True)\n",
        "df['used_app_before'].replace('no', 2, inplace=True)"
      ]
    },
    {
      "cell_type": "code",
      "execution_count": null,
      "metadata": {
        "id": "ZIhq4GPTBkAm"
      },
      "outputs": [],
      "source": [
        "df['jundice'].replace('yes', 1, inplace=True)\n",
        "df['jundice'].replace('no', 2, inplace=True)"
      ]
    },
    {
      "cell_type": "code",
      "execution_count": null,
      "metadata": {
        "id": "Nr4BmAPYBvoy"
      },
      "outputs": [],
      "source": [
        "df['Class/ASD'].replace('YES', 0, inplace=True)\n",
        "df['Class/ASD'].replace('NO', 1, inplace=True)"
      ]
    },
    {
      "cell_type": "code",
      "execution_count": null,
      "metadata": {
        "id": "XQA5t2R78ACX"
      },
      "outputs": [],
      "source": [
        "nu=df['ethnicity'].nunique()\n",
        "num=range(nu)\n",
        "eth={}\n",
        "uni=df['ethnicity'].unique()\n",
        "for a,b in zip(num,uni):\n",
        "    df['ethnicity'].replace(b,a, inplace=True)\n",
        "    eth[a]=b\n",
        "\n",
        "nu=df['contry_of_res'].nunique()\n",
        "cor={}\n",
        "num=range(nu)\n",
        "uni=df['contry_of_res'].unique()\n",
        "for a,b in zip(num,uni):\n",
        "    df['contry_of_res'].replace(b,a, inplace=True)\n",
        "    cor[a]=b\n",
        "\n",
        "nu=df['age_desc'].nunique()\n",
        "age_desc={}\n",
        "num=range(nu)\n",
        "uni=df['age_desc'].unique()\n",
        "for a,b in zip(num,uni):\n",
        "    df['age_desc'].replace(b,a, inplace=True)\n",
        "    age_desc[a]=b\n",
        "\n",
        "nu=df['relation'].nunique()\n",
        "num=range(nu)\n",
        "rel={}\n",
        "uni=df['relation'].unique()\n",
        "for a,b in zip(num,uni):\n",
        "    df['relation'].replace(b,a, inplace=True)\n",
        "    rel[a]=b\n",
        "\n"
      ]
    },
    {
      "cell_type": "code",
      "execution_count": null,
      "metadata": {
        "colab": {
          "background_save": true
        },
        "id": "8smUVrgYDIAn"
      },
      "outputs": [],
      "source": [
        "df.drop('id',axis=1, inplace=True)"
      ]
    },
    {
      "cell_type": "markdown",
      "metadata": {
        "id": "oYKIraoqD-o7"
      },
      "source": [
        "## **Modelling**"
      ]
    },
    {
      "cell_type": "code",
      "execution_count": null,
      "metadata": {
        "id": "Q4ui5XysD_4J"
      },
      "outputs": [],
      "source": [
        "X=df.drop('Class/ASD', axis=1)\n",
        "Y=df['Class/ASD']"
      ]
    },
    {
      "cell_type": "code",
      "execution_count": null,
      "metadata": {
        "id": "kXUlFFcSEhRi"
      },
      "outputs": [],
      "source": [
        "\"split data to train and test set\"\n",
        "from sklearn.model_selection import train_test_split\n",
        "X_train, X_test, y_train, y_test = train_test_split(X, Y, test_size=0.20, random_state=42)"
      ]
    },
    {
      "cell_type": "code",
      "execution_count": null,
      "metadata": {
        "colab": {
          "base_uri": "https://localhost:8080/"
        },
        "id": "hHXIA6fTE2iA",
        "outputId": "1dabec91-0a36-44d9-8bfb-87be237b112b"
      },
      "outputs": [
        {
          "name": "stdout",
          "output_type": "stream",
          "text": [
            "The accuracy score for RandomForestClassifier 1.0\n",
            "The f1 score for RandomForestClassifier 1.0\n"
          ]
        }
      ],
      "source": [
        "from sklearn.ensemble import RandomForestClassifier\n",
        "Rf=RandomForestClassifier()\n",
        "Rf.fit(X_train,y_train)\n",
        "print('The accuracy score for RandomForestClassifier', Rf.score(X_test, y_test) )\n",
        "from sklearn.metrics import f1_score\n",
        "y_pred=Rf.predict(X_test)\n",
        "print('The f1 score for RandomForestClassifier', f1_score(y_test, y_pred))"
      ]
    },
    {
      "cell_type": "markdown",
      "metadata": {
        "id": "lxFTAzn0gT-s"
      },
      "source": [
        "Saving the model"
      ]
    },
    {
      "cell_type": "code",
      "execution_count": null,
      "metadata": {
        "id": "YrOI_FaKgHcL"
      },
      "outputs": [],
      "source": [
        "import pickle\n",
        "from google.colab import files"
      ]
    },
    {
      "cell_type": "code",
      "execution_count": null,
      "metadata": {
        "colab": {
          "base_uri": "https://localhost:8080/",
          "height": 17
        },
        "id": "NS-7JPKDgXRR",
        "outputId": "1d69ca29-61da-4d80-c9ce-671e2fc40069"
      },
      "outputs": [
        {
          "data": {
            "application/javascript": [
              "\n",
              "    async function download(id, filename, size) {\n",
              "      if (!google.colab.kernel.accessAllowed) {\n",
              "        return;\n",
              "      }\n",
              "      const div = document.createElement('div');\n",
              "      const label = document.createElement('label');\n",
              "      label.textContent = `Downloading \"${filename}\": `;\n",
              "      div.appendChild(label);\n",
              "      const progress = document.createElement('progress');\n",
              "      progress.max = size;\n",
              "      div.appendChild(progress);\n",
              "      document.body.appendChild(div);\n",
              "\n",
              "      const buffers = [];\n",
              "      let downloaded = 0;\n",
              "\n",
              "      const channel = await google.colab.kernel.comms.open(id);\n",
              "      // Send a message to notify the kernel that we're ready.\n",
              "      channel.send({})\n",
              "\n",
              "      for await (const message of channel.messages) {\n",
              "        // Send a message to notify the kernel that we're ready.\n",
              "        channel.send({})\n",
              "        if (message.buffers) {\n",
              "          for (const buffer of message.buffers) {\n",
              "            buffers.push(buffer);\n",
              "            downloaded += buffer.byteLength;\n",
              "            progress.value = downloaded;\n",
              "          }\n",
              "        }\n",
              "      }\n",
              "      const blob = new Blob(buffers, {type: 'application/binary'});\n",
              "      const a = document.createElement('a');\n",
              "      a.href = window.URL.createObjectURL(blob);\n",
              "      a.download = filename;\n",
              "      div.appendChild(a);\n",
              "      a.click();\n",
              "      div.remove();\n",
              "    }\n",
              "  "
            ],
            "text/plain": [
              "<IPython.core.display.Javascript object>"
            ]
          },
          "metadata": {},
          "output_type": "display_data"
        },
        {
          "data": {
            "application/javascript": [
              "download(\"download_f8f82402-8662-4b2a-9590-a529516ab47f\", \"ASD_model.sav\", 462243)"
            ],
            "text/plain": [
              "<IPython.core.display.Javascript object>"
            ]
          },
          "metadata": {},
          "output_type": "display_data"
        }
      ],
      "source": [
        "filename = 'ASD_model.sav'\n",
        "pickle.dump(Rf, open(filename, 'wb'))\n",
        "files.download(filename)"
      ]
    }
  ],
  "metadata": {
    "colab": {
      "name": "ASD Detector.ipynb",
      "provenance": []
    },
    "kernelspec": {
      "display_name": "Python 3",
      "name": "python3"
    },
    "language_info": {
      "name": "python"
    }
  },
  "nbformat": 4,
  "nbformat_minor": 0
}